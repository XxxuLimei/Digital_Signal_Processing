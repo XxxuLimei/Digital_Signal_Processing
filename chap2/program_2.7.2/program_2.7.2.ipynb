{
 "cells": [
  {
   "cell_type": "code",
   "execution_count": 98,
   "id": "6e37435d",
   "metadata": {
    "code_folding": [
     1
    ]
   },
   "outputs": [],
   "source": [
    "#导入使用的库\n",
    "import lcapy as lc \n",
    "from lcapy.discretetime import n\n",
    "\n",
    "x = 0.5**n+(1/5)**n #定义时域信号\n",
    "X = x.ZT() #Z变换"
   ]
  },
  {
   "cell_type": "code",
   "execution_count": 97,
   "id": "2ce6b282",
   "metadata": {},
   "outputs": [
    {
     "data": {
      "image/png": "[encoded data removed]",
      "text/latex": [
       "$$\\left(\\frac{1}{5}\\right)^{n} + \\left(\\frac{1}{2}\\right)^{n}$$"
      ],
      "text/plain": [
       " -n    -n\n",
       "5   + 2  "
      ]
     },
     "execution_count": 97,
     "metadata": {},
     "output_type": "execute_result"
    }
   ],
   "source": [
    "x"
   ]
  },
  {
   "cell_type": "code",
   "execution_count": 99,
   "id": "327e2155",
   "metadata": {},
   "outputs": [
    {
     "data": {
      "image/png": "[encoded data removed]",
      "text/latex": [
       "$$\\frac{5 z}{5 z - 1} + \\frac{2 z}{2 z - 1}$$"
      ],
      "text/plain": [
       "  5⋅z       2⋅z  \n",
       "─────── + ───────\n",
       "5⋅z - 1   2⋅z - 1"
      ]
     },
     "execution_count": 99,
     "metadata": {},
     "output_type": "execute_result"
    }
   ],
   "source": [
    "X(z)"
   ]
  }
 ],
 "metadata": {
  "kernelspec": {
   "display_name": "Python 3 (ipykernel)",
   "language": "python",
   "name": "python3"
  },
  "language_info": {
   "codemirror_mode": {
    "name": "ipython",
    "version": 3
   },
   "file_extension": ".py",
   "mimetype": "text/x-python",
   "name": "python",
   "nbconvert_exporter": "python",
   "pygments_lexer": "ipython3",
   "version": "3.9.7"
  },
  "toc": {
   "base_numbering": 1,
   "nav_menu": {},
   "number_sections": true,
   "sideBar": true,
   "skip_h1_title": false,
   "title_cell": "Table of Contents",
   "title_sidebar": "Contents",
   "toc_cell": false,
   "toc_position": {},
   "toc_section_display": true,
   "toc_window_display": false
  }
 },
 "nbformat": 4,
 "nbformat_minor": 5
}
