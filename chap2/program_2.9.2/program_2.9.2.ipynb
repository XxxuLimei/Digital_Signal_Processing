{
 "cells": [
  {
   "cell_type": "code",
   "execution_count": 7,
   "id": "195860d0",
   "metadata": {},
   "outputs": [],
   "source": [
    "#导入使用的库\n",
    "import lcapy as lc \n",
    "from lcapy.discretetime import z,n\n",
    "\n",
    "Xz = 2*z/(z-2)**2\n",
    "x = Xz.IZT() #Z逆变换"
   ]
  },
  {
   "cell_type": "code",
   "execution_count": 9,
   "id": "ad0744d3",
   "metadata": {},
   "outputs": [
    {
     "data": {
      "text/latex": [
       "$$\\frac{2 z}{\\left(z - 2\\right)^{2}}$$"
      ],
      "text/plain": [
       "  2⋅z   \n",
       "────────\n",
       "       2\n",
       "(z - 2) "
      ]
     },
     "execution_count": 9,
     "metadata": {},
     "output_type": "execute_result"
    }
   ],
   "source": [
    "Xz"
   ]
  },
  {
   "cell_type": "code",
   "execution_count": 8,
   "id": "1a898b38",
   "metadata": {},
   "outputs": [
    {
     "data": {
      "text/latex": [
       "$$2 \\cdot 2^{n - 1} n \\;\\; \\text{for}\\: n \\geq 0$$"
      ],
      "text/plain": [
       "   n - 1             \n",
       "2⋅2     ⋅n  for n ≥ 0"
      ]
     },
     "execution_count": 8,
     "metadata": {},
     "output_type": "execute_result"
    }
   ],
   "source": [
    "x(n)"
   ]
  }
 ],
 "metadata": {
  "kernelspec": {
   "display_name": "Python 3 (ipykernel)",
   "language": "python",
   "name": "python3"
  },
  "language_info": {
   "codemirror_mode": {
    "name": "ipython",
    "version": 3
   },
   "file_extension": ".py",
   "mimetype": "text/x-python",
   "name": "python",
   "nbconvert_exporter": "python",
   "pygments_lexer": "ipython3",
   "version": "3.9.7"
  },
  "toc": {
   "base_numbering": 1,
   "nav_menu": {},
   "number_sections": true,
   "sideBar": true,
   "skip_h1_title": false,
   "title_cell": "Table of Contents",
   "title_sidebar": "Contents",
   "toc_cell": false,
   "toc_position": {},
   "toc_section_display": true,
   "toc_window_display": false
  }
 },
 "nbformat": 4,
 "nbformat_minor": 5
}
